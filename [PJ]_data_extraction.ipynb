{
 "cells": [
  {
   "cell_type": "markdown",
   "id": "605dcd06",
   "metadata": {},
   "source": [
    "# This notebook shows how to make data extraction from the page:\n",
    "https://www.internationalwinechallenge.com/canopy/search_results?wpcat=WineTab.S&Challenge_Year=2025_993276&Medal=&Score=&Vintage=&Style=&Country=&PrimGrpq=&Region=&Prodq=&WinNamq="
   ]
  },
  {
   "cell_type": "markdown",
   "id": "72196746",
   "metadata": {},
   "source": [
    "The page previously mentioned, is the first one that contains a total of 20 wines displayed and are partioned by page, our process then is gonna be: \n",
    "*Extract the first page* -- after 20 wines --> *Pass page* \n",
    "To define the next page we can use this link:https://www.internationalwinechallenge.com/canopy/search_results?page=2&wpcat=WineTab.S&Challenge_Year=2025_993276\n",
    "And just increase the page number on the url.\n"
   ]
  },
  {
   "cell_type": "code",
   "execution_count": null,
   "id": "038f0606",
   "metadata": {},
   "outputs": [],
   "source": [
    "import bs4\n",
    "import lxml\n",
    "import pandas as pd\n",
    "import urllib\n",
    "import re\n",
    "\n",
    "from urllib import request"
   ]
  },
  {
   "cell_type": "markdown",
   "id": "d7e3dc9c",
   "metadata": {},
   "source": [
    "### Downloading the page via URLLIB"
   ]
  },
  {
   "cell_type": "code",
   "execution_count": 21,
   "id": "068567c2",
   "metadata": {},
   "outputs": [
    {
     "name": "stdout",
     "output_type": "stream",
     "text": [
      "b'<!DOCTYPE  html>\\n<html lang=\"en\"><head>\\n<meta name=\"twitter:card\" content=\"summary\" />\\n<meta name=\"twitter:site\" content=\"@WineChallenge\" />\\n<meta property=\"og:site_name\" content=\"IWC\" />\\n<title>International Wine Challenge - The most influential wine competition in the World</title>\\n<meta property=\"og:title\" content=\"International Wine Challenge - The most influential wine competition in the World\" />\\n<meta name=\"twitter:title\" content=\"International Wine Challenge - The most influential wine competition in the World\" />\\n<meta itemprop=\"inLanguage\" http-equiv=\"content-language\" content=\"en\" />\\n<meta http-equiv=\"language\" content=\"en\" />\\n<meta http-equiv=\"X-UA-Compatible\" content=\"IE=edge\" />\\n<meta http-equiv=\"Content-Type\" content=\"text/html; charset=UTF-8\"/>\\n<script src=\"//admin.webpuzzleapp.com/js/jquery/1.12.2/jquery.min.js\" type=\"text/javascript\"></script>\\n<meta name=\"viewport\" content=\"initial-scale=1.0,width=device-width\" /><link rel=\"stylesheet\" href=\"https://use.typekit.net/wn'\n",
      "<title>International Wine Challenge - The most influential wine competition in the World</title>\n"
     ]
    }
   ],
   "source": [
    "jo = \"https://www.internationalwinechallenge.com/canopy/search_results?wpcat=WineTab.S&Challenge_Year=2025_993276&Medal=&Score=&Vintage=&Style=&Country=&PrimGrpq=&Region=&Prodq=&WinNamq=\"\n",
    "req = request.Request(jo, headers={\"User-Agent\": \"Mozilla/5.0\"})\n",
    "\n",
    "request_text = request.urlopen(req).read()\n",
    "print(request_text[:1000])\n",
    "page = bs4.BeautifulSoup(request_text, \"lxml\")\n",
    "print(page.find(\"title\"))"
   ]
  },
  {
   "cell_type": "markdown",
   "id": "e31e66e1",
   "metadata": {},
   "source": [
    "### Processing the page to obtain the items displayed\n",
    "Normally a page should have 20 items and has been tested based on this assumption."
   ]
  },
  {
   "cell_type": "code",
   "execution_count": null,
   "id": "fa500b88",
   "metadata": {},
   "outputs": [
    {
     "name": "stdout",
     "output_type": "stream",
     "text": [
      "Total results: 20\n"
     ]
    }
   ],
   "source": [
    "results_header = page.find(\"h2\", class_=\"displaying\")\n",
    "if results_header:\n",
    "    results_text = results_header.get_text(strip=True)\n",
    "    # extrair o número, ex: \"Displaying 20 results\"\n",
    "    import re\n",
    "    match = re.search(r\"Displaying\\s+(\\d+)\", results_text)\n",
    "    total_results = int(match.group(1)) if match else None\n",
    "    print(\"Total results:\", total_results)"
   ]
  },
  {
   "cell_type": "markdown",
   "id": "09dafd50",
   "metadata": {},
   "source": [
    "### Wine page to display how we are getting information\n",
    "from IPython.display import display, HTML\n",
    "\n",
    "display(HTML('<img src=\"Wine_scrape.png\" width=\"600\">'))"
   ]
  },
  {
   "cell_type": "markdown",
   "id": "c346bff9",
   "metadata": {},
   "source": [
    "Notes:\n",
    "- The title H1 always have the name of the wine, but can also include the year or NV flag. NV stands for a blend of wines so it's normally impossible to define a single year of production. Check the tests on: https://regexr.com/8hfrf\n",
    "\n",
    "- For any image displayed on the screen, we are keeping just it link, so we can use it afterwards without store problems.\n",
    "\n",
    "- The info field on the dataset creation is relative to the information about the wine: *producer by*,*country*,*grape*,*alcohol level*,*wine style*,*wine colour*, *IWC points* and *trophies*. Just in case some wine got extra information we add like that\n"
   ]
  },
  {
   "cell_type": "code",
   "execution_count": null,
   "id": "b56c5f33",
   "metadata": {},
   "outputs": [
    {
     "name": "stdout",
     "output_type": "stream",
     "text": [
      "Found links: ['beverage_details?wid=193376', 'beverage_details?wid=193378', 'beverage_details?wid=193415', 'beverage_details?wid=193433', 'beverage_details?wid=193435', 'beverage_details?wid=193456', 'beverage_details?wid=193468', 'beverage_details?wid=193543', 'beverage_details?wid=193544', 'beverage_details?wid=193549', 'beverage_details?wid=193550', 'beverage_details?wid=193588', 'beverage_details?wid=193601', 'beverage_details?wid=193635', 'beverage_details?wid=193650', 'beverage_details?wid=193661', 'beverage_details?wid=193664', 'beverage_details?wid=193665', 'beverage_details?wid=193680', 'beverage_details?wid=193693']\n",
      "                                                Name    Year     NV  \\\n",
      "0                                    Mora Pinot Noir  2023.0  False   \n",
      "1  Vernaccia Valle del Tirso Igt Sa Crannatza de ...     NaN   True   \n",
      "2                              Gladysdale Chardonnay  2021.0  False   \n",
      "3                                   Trama Pinot Noir  2023.0  False   \n",
      "4                                            Altazor  2022.0  False   \n",
      "\n",
      "                                       Tasting Notes  \\\n",
      "0  This has beautiful aromas of sweet, black cher...   \n",
      "1  Golden hue, bone dry fortified wine with salin...   \n",
      "2  Flinty notes on the nose with lots of fruit - ...   \n",
      "3  Intense red berry attack, a bright and lively ...   \n",
      "4  A classic Maipo Valley expression showing stre...   \n",
      "\n",
      "                                         Detail Link  \\\n",
      "0  https://www.internationalwinechallenge.com/can...   \n",
      "1  https://www.internationalwinechallenge.com/can...   \n",
      "2  https://www.internationalwinechallenge.com/can...   \n",
      "3  https://www.internationalwinechallenge.com/can...   \n",
      "4  https://www.internationalwinechallenge.com/can...   \n",
      "\n",
      "                                              Medals  \\\n",
      "0  [https://www.internationalwinechallenge.com/ca...   \n",
      "1  [https://www.internationalwinechallenge.com/ca...   \n",
      "2  [https://www.internationalwinechallenge.com/ca...   \n",
      "3  [https://www.internationalwinechallenge.com/ca...   \n",
      "4  [https://www.internationalwinechallenge.com/ca...   \n",
      "\n",
      "                                          Wine Image       Produced by  \\\n",
      "0  https://www.internationalwinechallenge.com/can...        Mora Wines   \n",
      "1  https://www.internationalwinechallenge.com/can...  Silvio Carta Srl   \n",
      "2  https://www.internationalwinechallenge.com/can...    Santolin Wines   \n",
      "3  https://www.internationalwinechallenge.com/can...    Viña Undurraga   \n",
      "4  https://www.internationalwinechallenge.com/can...    Viña Undurraga   \n",
      "\n",
      "                      Country                                    Grape  \\\n",
      "0  Central Otago, New Zealand                               Pinot Noir   \n",
      "1             Sardinia, Italy                    Vernaccia di Oristano   \n",
      "2         Victoria, Australia                               Chardonnay   \n",
      "3   San Antonio Valley, Chile                               Pinot Noir   \n",
      "4         Maipo Valley, Chile  Carmenere, Carignan, Cabernet Sauvignon   \n",
      "\n",
      "  Alcohol level Wine style Wine colour IWC Points  \\\n",
      "0         13.5%      Still         Red         96   \n",
      "1         18.5%  Fortified       White         95   \n",
      "2         13.0%      Still       White         95   \n",
      "3         13.0%      Still         Red         95   \n",
      "4         14.5%      Still         Red         96   \n",
      "\n",
      "                                            Trophies  \n",
      "0                  [Central Otago Pinot Noir Trophy]  \n",
      "1                                                 []  \n",
      "2                                                 []  \n",
      "3                                                 []  \n",
      "4  [Maipo Valley Cabernet blend Trophy,  Chilean ...  \n"
     ]
    }
   ],
   "source": [
    "\n",
    "BASE_URL = 'https://www.internationalwinechallenge.com/canopy/'\n",
    "# Considering the standard page has been captured\n",
    "# Go thorgh their links and add to the list\n",
    "links = []\n",
    "for a in page.find_all(\"a\", class_=\"result\"):\n",
    "    href = a.get(\"href\")\n",
    "    if href:\n",
    "        links.append(href)\n",
    "\n",
    "print(\"Found links:\", links)\n",
    "\n",
    "data = []\n",
    "\n",
    "for url in links:\n",
    "    detail_req = request.Request(BASE_URL + url, headers={\"User-Agent\": \"Mozilla/5.0\"})\n",
    "    with request.urlopen(detail_req) as resp:\n",
    "        detail_text = resp.read()\n",
    "    detail_soup = bs4.BeautifulSoup(detail_text, \"html.parser\")\n",
    "\n",
    "    # --- Name + Year + NV ---\n",
    "    title_tag = detail_soup.find(\"h1\")\n",
    "    full_title = title_tag.get_text(strip=True) if title_tag else None\n",
    "\n",
    "    name = None\n",
    "    year = None\n",
    "    is_nv = False\n",
    "\n",
    "    if full_title:\n",
    "        # Regex to capture last comma + year or NV https://regexr.com/8hfrf\n",
    "        match = re.match(r\"^(.*),\\s*([0-9]{4}|NV)$\", full_title.strip(), re.IGNORECASE)\n",
    "        if match:\n",
    "            name = match.group(1).strip()\n",
    "            year_candidate = match.group(2).strip().upper()\n",
    "            if year_candidate == \"NV\":\n",
    "                is_nv = True\n",
    "                year = None\n",
    "            else:\n",
    "                year = int(year_candidate)\n",
    "        else:\n",
    "            name = full_title.strip()\n",
    "\n",
    "    # --- Wine Image ---\n",
    "    img_tag = detail_soup.select_one(\"div.bottle img\")\n",
    "    wine_img = img_tag[\"src\"] if img_tag else None\n",
    "\n",
    "    # --- Medals ---\n",
    "    medals = [img[\"src\"] for img in detail_soup.select(\"div.medals img\")]\n",
    "\n",
    "    # --- Tasting Notes ---\n",
    "    tasting_div = detail_soup.find(\"div\", class_=\"tasting-note\")\n",
    "    tasting_p = tasting_div.find(\"p\") if tasting_div else None\n",
    "    tasting_notes = tasting_p.get_text(strip=True) if tasting_p else None\n",
    "\n",
    "    # --- Additional information ---\n",
    "    info_div = detail_soup.find(\"div\", class_=\"information\")\n",
    "    info = {}\n",
    "    if info_div:\n",
    "        # Extract <p><span>Label</span>Value</p>\n",
    "        for p in info_div.find_all(\"p\"):\n",
    "            span = p.find(\"span\")\n",
    "            if span:\n",
    "                label = span.get_text(strip=True)\n",
    "                value = p.get_text(strip=True).replace(label, \"\").strip()\n",
    "                info[label] = value\n",
    "\n",
    "        # Extract trophies from <ul>\n",
    "        ul = info_div.find(\"ul\")\n",
    "        trophies = []\n",
    "\n",
    "        if ul:\n",
    "            children = list(ul.children)  # get all children of <ul>\n",
    "            for child in children:\n",
    "                # Skip the first <li> that just says \"Trophies\"\n",
    "                if child.name == \"li\" and \"Trophies\" in child.get_text(strip=True):\n",
    "                    continue\n",
    "                # For text nodes\n",
    "                text = str(child).strip()\n",
    "                if text and text != \"\\n\":\n",
    "                    # Remove trailing commas or newlines\n",
    "                    text = text.rstrip(\",\").strip()\n",
    "                    trophies.append(text)\n",
    "\n",
    "        info[\"Trophies\"] = trophies\n",
    "\n",
    "    # --- Add to dataset ---\n",
    "    data.append({\n",
    "        \"Name\": name,\n",
    "        \"Year\": year,\n",
    "        \"NV\": is_nv,\n",
    "        \"Tasting Notes\": tasting_notes,\n",
    "        \"Detail Link\": BASE_URL + url,\n",
    "        \"Medals\": medals,\n",
    "        \"Wine Image\": wine_img,\n",
    "        **info\n",
    "    })\n",
    "\n",
    "# --- DataFrame ---\n",
    "df = pd.DataFrame(data)\n",
    "df.to_csv(\"wine_results.csv\", index=False)"
   ]
  },
  {
   "cell_type": "markdown",
   "id": "a73b9731",
   "metadata": {},
   "source": [
    "### [Test] The following code helps to show how to find information on a page using BS4"
   ]
  },
  {
   "cell_type": "code",
   "execution_count": 59,
   "id": "54d4b08f",
   "metadata": {},
   "outputs": [
    {
     "name": "stdout",
     "output_type": "stream",
     "text": [
      "https://www.internationalwinechallenge.com/canopy/beverage_details?wid=193376\n"
     ]
    }
   ],
   "source": [
    "url = links[0]\n",
    "detail_req = request.Request(BASE_URL + url, headers={\"User-Agent\": \"Mozilla/5.0\"})\n",
    "detail_text = request.urlopen(detail_req).read()\n",
    "detail_soup = bs4.BeautifulSoup(detail_text, \"html.parser\")\n",
    "with open(\"output.txt\", \"w\", encoding=\"utf-8\") as f:\n",
    "    print(BASE_URL + url)\n",
    "    f.write(str(detail_soup))\n",
    "found = detail_soup.find('div',{'class':'information'})"
   ]
  },
  {
   "cell_type": "code",
   "execution_count": 63,
   "id": "4fc3b8c9",
   "metadata": {},
   "outputs": [
    {
     "data": {
      "text/plain": [
       "<div class=\"information\">\n",
       "<p><span>Produced by</span> Mora Wines</p>\n",
       "<p><span>Country</span> Central Otago, New Zealand</p>\n",
       "<p><span>Grape</span>Pinot Noir</p>\n",
       "<p><span>Alcohol level</span>13.5%</p>\n",
       "<p><span>Wine style</span>  Still</p>\n",
       "<p><span>Wine colour</span> Red</p>\n",
       "<p><span>IWC Points</span>96</p>\n",
       "<ul>\n",
       "<li>Trophies</li>\n",
       "\t\t\t\t\t\tCentral Otago Pinot Noir Trophy, \n",
       "\t\t\t\t\t</ul>\n",
       "</div>"
      ]
     },
     "execution_count": 63,
     "metadata": {},
     "output_type": "execute_result"
    }
   ],
   "source": [
    "found"
   ]
  }
 ],
 "metadata": {
  "kernelspec": {
   "display_name": "dallas (3.13.7)",
   "language": "python",
   "name": "python3"
  },
  "language_info": {
   "codemirror_mode": {
    "name": "ipython",
    "version": 3
   },
   "file_extension": ".py",
   "mimetype": "text/x-python",
   "name": "python",
   "nbconvert_exporter": "python",
   "pygments_lexer": "ipython3",
   "version": "3.13.7"
  }
 },
 "nbformat": 4,
 "nbformat_minor": 5
}
