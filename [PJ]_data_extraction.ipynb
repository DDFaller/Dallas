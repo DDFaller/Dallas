{
 "cells": [
  {
   "cell_type": "markdown",
   "id": "605dcd06",
   "metadata": {},
   "source": [
    "# This notebook shows how to make data extraction from the page:\n",
    "https://www.internationalwinechallenge.com/canopy/search_results?wpcat=WineTab.S&Challenge_Year=2025_993276&Medal=&Score=&Vintage=&Style=&Country=&PrimGrpq=&Region=&Prodq=&WinNamq="
   ]
  },
  {
   "cell_type": "markdown",
   "id": "72196746",
   "metadata": {},
   "source": [
    "The page previously mentioned, is the first one that contains a total of 20 wines displayed and are partioned by page, our process then is gonna be: \n",
    "*Extract the first page* -- after 20 wines --> *Pass page* \n",
    "To define the next page we can use this link:https://www.internationalwinechallenge.com/canopy/search_results?page=2&wpcat=WineTab.S&Challenge_Year=2025_993276\n",
    "And just increase the page number on the url.\n"
   ]
  },
  {
   "cell_type": "code",
   "execution_count": null,
   "id": "038f0606",
   "metadata": {},
   "outputs": [
    {
     "name": "stdout",
     "output_type": "stream",
     "text": [
      "ERROR! Session/line number was not unique in database. History logging moved to new session 128\n"
     ]
    }
   ],
   "source": [
    "import bs4\n",
    "import lxml\n",
    "import pandas as pd\n",
    "import urllib\n",
    "import re\n",
    "\n",
    "from urllib import request"
   ]
  },
  {
   "cell_type": "markdown",
   "id": "d7e3dc9c",
   "metadata": {},
   "source": [
    "### Downloading the page via URLLIB"
   ]
  },
  {
   "cell_type": "code",
   "execution_count": null,
   "id": "068567c2",
   "metadata": {},
   "outputs": [
    {
     "name": "stdout",
     "output_type": "stream",
     "text": [
      "b'<!DOCTYPE  html>\\n<html lang=\"en\"><head>\\n<meta name=\"twitter:card\" content=\"summary\" />\\n<meta name=\"twitter:site\" content=\"@WineChallenge\" />\\n<meta property=\"og:site_name\" content=\"IWC\" />\\n<title>International Wine Challenge - The most influential wine competition in the World</title>\\n<meta property=\"og:title\" content=\"International Wine Challenge - The most influential wine competition in the World\" />\\n<meta name=\"twitter:title\" content=\"International Wine Challenge - The most influential wine competition in the World\" />\\n<meta itemprop=\"inLanguage\" http-equiv=\"content-language\" content=\"en\" />\\n<meta http-equiv=\"language\" content=\"en\" />\\n<meta http-equiv=\"X-UA-Compatible\" content=\"IE=edge\" />\\n<meta http-equiv=\"Content-Type\" content=\"text/html; charset=UTF-8\"/>\\n<script src=\"//admin.webpuzzleapp.com/js/jquery/1.12.2/jquery.min.js\" type=\"text/javascript\"></script>\\n<meta name=\"viewport\" content=\"initial-scale=1.0,width=device-width\" /><link rel=\"stylesheet\" href=\"https://use.typekit.net/wn'\n",
      "<title>International Wine Challenge - The most influential wine competition in the World</title>\n"
     ]
    }
   ],
   "source": [
    "jo = \"https://www.internationalwinechallenge.com/canopy/search_results?wpcat=WineTab.S&Challenge_Year=2025_993276&Medal=&Score=&Vintage=&Style=&Country=&PrimGrpq=&Region=&Prodq=&WinNamq=\"\n",
    "req = request.Request(jo, headers={\"User-Agent\": \"Mozilla/5.0\"})\n",
    "\n",
    "request_text = request.urlopen(req).read()\n",
    "print(request_text[:1000])\n",
    "page = bs4.BeautifulSoup(request_text, \"lxml\")\n",
    "print(page.find(\"title\"))"
   ]
  },
  {
   "cell_type": "markdown",
   "id": "e31e66e1",
   "metadata": {},
   "source": [
    "### Processing the page to obtain the items displayed\n",
    "Normally a page should have 20 items and has been tested based on this assumption."
   ]
  },
  {
   "cell_type": "code",
   "execution_count": null,
   "id": "fa500b88",
   "metadata": {},
   "outputs": [
    {
     "name": "stdout",
     "output_type": "stream",
     "text": [
      "Total results: 20\n"
     ]
    }
   ],
   "source": [
    "results_header = page.find(\"h2\", class_=\"displaying\")\n",
    "if results_header:\n",
    "    results_text = results_header.get_text(strip=True)\n",
    "    # extrair o número, ex: \"Displaying 20 results\"\n",
    "    import re\n",
    "    match = re.search(r\"Displaying\\s+(\\d+)\", results_text)\n",
    "    total_results = int(match.group(1)) if match else None\n",
    "    print(\"Total results:\", total_results)"
   ]
  },
  {
   "cell_type": "markdown",
   "id": "09dafd50",
   "metadata": {},
   "source": [
    "### Wine page to display how we are getting information\n",
    "from IPython.display import display, HTML\n",
    "\n",
    "display(HTML('<img src=\"Wine_scrape.png\" width=\"600\">'))"
   ]
  },
  {
   "cell_type": "markdown",
   "id": "c346bff9",
   "metadata": {},
   "source": [
    "Notes:\n",
    "- The title H1 always have the name of the wine, but can also include the year or NV flag. NV stands for a blend of wines so it's normally impossible to define a single year of production. Check the tests on: https://regexr.com/8hfrf\n",
    "\n",
    "- For any image displayed on the screen, we are keeping just it link, so we can use it afterwards without store problems.\n",
    "\n",
    "- The info field on the dataset creation is relative to the information about the wine: *producer by*,*country*,*grape*,*alcohol level*,*wine style*,*wine colour*, *IWC points* and *trophies*. Just in case some wine got extra information we add like that\n"
   ]
  },
  {
   "cell_type": "code",
   "execution_count": null,
   "id": "b56c5f33",
   "metadata": {},
   "outputs": [
    {
     "ename": "KeyboardInterrupt",
     "evalue": "",
     "output_type": "error",
     "traceback": [
      "\u001b[31m---------------------------------------------------------------------------\u001b[39m",
      "\u001b[31mKeyboardInterrupt\u001b[39m                         Traceback (most recent call last)",
      "\u001b[36mFile \u001b[39m\u001b[32mc:\\Users\\danie\\OneDrive\\Desktop\\StudySpace\\DALLAS\\dallas\\Lib\\site-packages\\IPython\\core\\async_helpers.py:128\u001b[39m, in \u001b[36m_pseudo_sync_runner\u001b[39m\u001b[34m(coro)\u001b[39m\n\u001b[32m    120\u001b[39m \u001b[38;5;250m\u001b[39m\u001b[33;03m\"\"\"\u001b[39;00m\n\u001b[32m    121\u001b[39m \u001b[33;03mA runner that does not really allow async execution, and just advance the coroutine.\u001b[39;00m\n\u001b[32m    122\u001b[39m \n\u001b[32m   (...)\u001b[39m\u001b[32m    125\u001b[39m \u001b[33;03mCredit to Nathaniel Smith\u001b[39;00m\n\u001b[32m    126\u001b[39m \u001b[33;03m\"\"\"\u001b[39;00m\n\u001b[32m    127\u001b[39m \u001b[38;5;28;01mtry\u001b[39;00m:\n\u001b[32m--> \u001b[39m\u001b[32m128\u001b[39m     \u001b[43mcoro\u001b[49m\u001b[43m.\u001b[49m\u001b[43msend\u001b[49m\u001b[43m(\u001b[49m\u001b[38;5;28;43;01mNone\u001b[39;49;00m\u001b[43m)\u001b[49m\n\u001b[32m    129\u001b[39m \u001b[38;5;28;01mexcept\u001b[39;00m \u001b[38;5;167;01mStopIteration\u001b[39;00m \u001b[38;5;28;01mas\u001b[39;00m exc:\n\u001b[32m    130\u001b[39m     \u001b[38;5;28;01mreturn\u001b[39;00m exc.value\n",
      "\u001b[36mFile \u001b[39m\u001b[32mc:\\Users\\danie\\OneDrive\\Desktop\\StudySpace\\DALLAS\\dallas\\Lib\\site-packages\\IPython\\core\\interactiveshell.py:3361\u001b[39m, in \u001b[36mInteractiveShell.run_cell_async\u001b[39m\u001b[34m(self, raw_cell, store_history, silent, shell_futures, transformed_cell, preprocessing_exc_tuple, cell_id)\u001b[39m\n\u001b[32m   3358\u001b[39m compiler = \u001b[38;5;28mself\u001b[39m.compile \u001b[38;5;28;01mif\u001b[39;00m shell_futures \u001b[38;5;28;01melse\u001b[39;00m \u001b[38;5;28mself\u001b[39m.compiler_class()\n\u001b[32m   3360\u001b[39m \u001b[38;5;28;01mwith\u001b[39;00m \u001b[38;5;28mself\u001b[39m.builtin_trap:\n\u001b[32m-> \u001b[39m\u001b[32m3361\u001b[39m     cell_name = \u001b[43mcompiler\u001b[49m\u001b[43m.\u001b[49m\u001b[43mcache\u001b[49m\u001b[43m(\u001b[49m\u001b[43mcell\u001b[49m\u001b[43m,\u001b[49m\u001b[43m \u001b[49m\u001b[38;5;28;43mself\u001b[39;49m\u001b[43m.\u001b[49m\u001b[43mexecution_count\u001b[49m\u001b[43m,\u001b[49m\u001b[43m \u001b[49m\u001b[43mraw_code\u001b[49m\u001b[43m=\u001b[49m\u001b[43mraw_cell\u001b[49m\u001b[43m)\u001b[49m\n\u001b[32m   3363\u001b[39m     \u001b[38;5;28;01mwith\u001b[39;00m \u001b[38;5;28mself\u001b[39m.display_trap:\n\u001b[32m   3364\u001b[39m         \u001b[38;5;66;03m# Compile to bytecode\u001b[39;00m\n\u001b[32m   3365\u001b[39m         \u001b[38;5;28;01mtry\u001b[39;00m:\n",
      "\u001b[36mFile \u001b[39m\u001b[32mc:\\Users\\danie\\OneDrive\\Desktop\\StudySpace\\DALLAS\\dallas\\Lib\\site-packages\\IPython\\core\\compilerop.py:155\u001b[39m, in \u001b[36mCachingCompiler.cache\u001b[39m\u001b[34m(self, transformed_code, number, raw_code)\u001b[39m\n\u001b[32m    152\u001b[39m \u001b[38;5;28;01mif\u001b[39;00m raw_code \u001b[38;5;129;01mis\u001b[39;00m \u001b[38;5;28;01mNone\u001b[39;00m:\n\u001b[32m    153\u001b[39m     raw_code = transformed_code\n\u001b[32m--> \u001b[39m\u001b[32m155\u001b[39m name = \u001b[38;5;28;43mself\u001b[39;49m\u001b[43m.\u001b[49m\u001b[43mget_code_name\u001b[49m\u001b[43m(\u001b[49m\u001b[43mraw_code\u001b[49m\u001b[43m,\u001b[49m\u001b[43m \u001b[49m\u001b[43mtransformed_code\u001b[49m\u001b[43m,\u001b[49m\u001b[43m \u001b[49m\u001b[43mnumber\u001b[49m\u001b[43m)\u001b[49m\n\u001b[32m    157\u001b[39m \u001b[38;5;66;03m# Save the execution count\u001b[39;00m\n\u001b[32m    158\u001b[39m \u001b[38;5;28mself\u001b[39m._filename_map[name] = number\n",
      "\u001b[36mFile \u001b[39m\u001b[32mc:\\Users\\danie\\OneDrive\\Desktop\\StudySpace\\DALLAS\\dallas\\Lib\\site-packages\\ipykernel\\compiler.py:105\u001b[39m, in \u001b[36mXCachingCompiler.get_code_name\u001b[39m\u001b[34m(self, raw_code, code, number)\u001b[39m\n\u001b[32m    103\u001b[39m \u001b[38;5;28;01mdef\u001b[39;00m\u001b[38;5;250m \u001b[39m\u001b[34mget_code_name\u001b[39m(\u001b[38;5;28mself\u001b[39m, raw_code, code, number):\n\u001b[32m    104\u001b[39m \u001b[38;5;250m    \u001b[39m\u001b[33;03m\"\"\"Get the code name.\"\"\"\u001b[39;00m\n\u001b[32m--> \u001b[39m\u001b[32m105\u001b[39m     \u001b[38;5;28;01mreturn\u001b[39;00m \u001b[43mget_file_name\u001b[49m\u001b[43m(\u001b[49m\u001b[43mraw_code\u001b[49m\u001b[43m)\u001b[49m\n",
      "\u001b[36mFile \u001b[39m\u001b[32mc:\\Users\\danie\\OneDrive\\Desktop\\StudySpace\\DALLAS\\dallas\\Lib\\site-packages\\ipykernel\\compiler.py:91\u001b[39m, in \u001b[36mget_file_name\u001b[39m\u001b[34m(code)\u001b[39m\n\u001b[32m     89\u001b[39m \u001b[38;5;28;01mif\u001b[39;00m cell_name \u001b[38;5;129;01mis\u001b[39;00m \u001b[38;5;28;01mNone\u001b[39;00m:\n\u001b[32m     90\u001b[39m     name = murmur2_x86(code, get_tmp_hash_seed())\n\u001b[32m---> \u001b[39m\u001b[32m91\u001b[39m     cell_name = \u001b[43mget_tmp_directory\u001b[49m\u001b[43m(\u001b[49m\u001b[43m)\u001b[49m + os.sep + \u001b[38;5;28mstr\u001b[39m(name) + \u001b[33m\"\u001b[39m\u001b[33m.py\u001b[39m\u001b[33m\"\u001b[39m\n\u001b[32m     92\u001b[39m \u001b[38;5;28;01mreturn\u001b[39;00m cell_name\n",
      "\u001b[36mFile \u001b[39m\u001b[32mc:\\Users\\danie\\OneDrive\\Desktop\\StudySpace\\DALLAS\\dallas\\Lib\\site-packages\\ipykernel\\compiler.py:76\u001b[39m, in \u001b[36mget_tmp_directory\u001b[39m\u001b[34m()\u001b[39m\n\u001b[32m     74\u001b[39m \u001b[38;5;28;01mdef\u001b[39;00m\u001b[38;5;250m \u001b[39m\u001b[34mget_tmp_directory\u001b[39m():\n\u001b[32m     75\u001b[39m \u001b[38;5;250m    \u001b[39m\u001b[33;03m\"\"\"Get a temp directory.\"\"\"\u001b[39;00m\n\u001b[32m---> \u001b[39m\u001b[32m76\u001b[39m     tmp_dir = \u001b[43mconvert_to_long_pathname\u001b[49m\u001b[43m(\u001b[49m\u001b[43mtempfile\u001b[49m\u001b[43m.\u001b[49m\u001b[43mgettempdir\u001b[49m\u001b[43m(\u001b[49m\u001b[43m)\u001b[49m\u001b[43m)\u001b[49m\n\u001b[32m     77\u001b[39m     pid = os.getpid()\n\u001b[32m     78\u001b[39m     \u001b[38;5;28;01mreturn\u001b[39;00m tmp_dir + os.sep + \u001b[33m\"\u001b[39m\u001b[33mipykernel_\u001b[39m\u001b[33m\"\u001b[39m + \u001b[38;5;28mstr\u001b[39m(pid)\n",
      "\u001b[36mFile \u001b[39m\u001b[32mc:\\Users\\danie\\OneDrive\\Desktop\\StudySpace\\DALLAS\\dallas\\Lib\\site-packages\\ipykernel\\compiler.py:61\u001b[39m, in \u001b[36m_convert_to_long_pathname\u001b[39m\u001b[34m(filename)\u001b[39m\n\u001b[32m     59\u001b[39m \u001b[38;5;28;01mdef\u001b[39;00m\u001b[38;5;250m \u001b[39m\u001b[34m_convert_to_long_pathname\u001b[39m(filename):\n\u001b[32m     60\u001b[39m     buf = ctypes.create_unicode_buffer(MAX_PATH)\n\u001b[32m---> \u001b[39m\u001b[32m61\u001b[39m     rv = \u001b[43m_GetLongPathName\u001b[49m\u001b[43m(\u001b[49m\u001b[43mfilename\u001b[49m\u001b[43m,\u001b[49m\u001b[43m \u001b[49m\u001b[43mbuf\u001b[49m\u001b[43m,\u001b[49m\u001b[43m \u001b[49m\u001b[43mMAX_PATH\u001b[49m\u001b[43m)\u001b[49m\n\u001b[32m     62\u001b[39m     \u001b[38;5;28;01mif\u001b[39;00m rv != \u001b[32m0\u001b[39m \u001b[38;5;129;01mand\u001b[39;00m rv <= MAX_PATH:\n\u001b[32m     63\u001b[39m         filename = buf.value\n",
      "\u001b[31mKeyboardInterrupt\u001b[39m: "
     ]
    }
   ],
   "source": [
    "\n",
    "BASE_URL = 'https://www.internationalwinechallenge.com/canopy/'\n",
    "# Considering the standard page has been captured\n",
    "# Go thorgh their links and add to the list\n",
    "links = []\n",
    "for a in page.find_all(\"a\", class_=\"result\"):\n",
    "    href = a.get(\"href\")\n",
    "    if href:\n",
    "        links.append(href)\n",
    "\n",
    "print(\"Found links:\", links)\n",
    "\n",
    "data = []\n",
    "\n",
    "for url in links:\n",
    "    detail_req = request.Request(BASE_URL + url, headers={\"User-Agent\": \"Mozilla/5.0\"})\n",
    "    with request.urlopen(detail_req) as resp:\n",
    "        detail_text = resp.read()\n",
    "    detail_soup = bs4.BeautifulSoup(detail_text, \"html.parser\")\n",
    "\n",
    "    # --- Name + Year + NV ---\n",
    "    title_tag = detail_soup.find(\"h1\")\n",
    "    full_title = title_tag.get_text(strip=True) if title_tag else None\n",
    "\n",
    "    name = None\n",
    "    year = None\n",
    "    is_nv = False\n",
    "\n",
    "    if full_title:\n",
    "        # Regex to capture last comma + year or NV https://regexr.com/8hfrf\n",
    "        match = re.match(r\"^(.*),\\s*([0-9]{4}|NV)$\", full_title.strip(), re.IGNORECASE)\n",
    "        if match:\n",
    "            name = match.group(1).strip()\n",
    "            year_candidate = match.group(2).strip().upper()\n",
    "            if year_candidate == \"NV\":\n",
    "                is_nv = True\n",
    "                year = None\n",
    "            else:\n",
    "                year = int(year_candidate)\n",
    "        else:\n",
    "            name = full_title.strip()\n",
    "\n",
    "    # --- Wine Image ---\n",
    "    img_tag = detail_soup.select_one(\"div.bottle img\")\n",
    "    wine_img = img_tag[\"src\"] if img_tag else None\n",
    "\n",
    "    # --- Medals ---\n",
    "    medals = [img[\"src\"] for img in detail_soup.select(\"div.medals img\")]\n",
    "\n",
    "    # --- Tasting Notes ---\n",
    "    tasting_div = detail_soup.find(\"div\", class_=\"tasting-note\")\n",
    "    tasting_p = tasting_div.find(\"p\") if tasting_div else None\n",
    "    tasting_notes = tasting_p.get_text(strip=True) if tasting_p else None\n",
    "\n",
    "    # --- Additional information ---\n",
    "    info_div = detail_soup.find(\"div\", class_=\"information\")\n",
    "    info = {}\n",
    "    if info_div:\n",
    "        # Extract <p><span>Label</span>Value</p>\n",
    "        for p in info_div.find_all(\"p\"):\n",
    "            span = p.find(\"span\")\n",
    "            if span:\n",
    "                label = span.get_text(strip=True)\n",
    "                value = p.get_text(strip=True).replace(label, \"\").strip()\n",
    "                info[label] = value\n",
    "\n",
    "        # Extract trophies from <ul>\n",
    "        ul = info_div.find(\"ul\")\n",
    "        trophies = []\n",
    "\n",
    "        if ul:\n",
    "            children = list(ul.children)  # get all children of <ul>\n",
    "            for child in children:\n",
    "                # Skip the first <li> that just says \"Trophies\"\n",
    "                if child.name == \"li\" and \"Trophies\" in child.get_text(strip=True):\n",
    "                    continue\n",
    "                # For text nodes\n",
    "                text = str(child).strip()\n",
    "                if text and text != \"\\n\":\n",
    "                    # Remove trailing commas or newlines\n",
    "                    text = text.rstrip(\",\").strip()\n",
    "                    trophies.append(text)\n",
    "\n",
    "        info[\"Trophies\"] = trophies\n",
    "\n",
    "    # --- Add to dataset ---\n",
    "    data.append({\n",
    "        \"Name\": name,\n",
    "        \"Year\": year,\n",
    "        \"NV\": is_nv,\n",
    "        \"Tasting Notes\": tasting_notes,\n",
    "        \"Detail Link\": BASE_URL + url,\n",
    "        \"Medals\": medals,\n",
    "        \"Wine Image\": wine_img,\n",
    "        **info\n",
    "    })\n",
    "\n",
    "# --- DataFrame ---\n",
    "df = pd.DataFrame(data)\n",
    "cols_to_move = [\"Tasting Notes\", \"Wine Image\", \"Medals\", \"Detail Link\"]\n",
    "\n",
    "# Get all columns in the current DataFrame\n",
    "all_cols = df.columns.tolist()\n",
    "\n",
    "# Keep only columns not in cols_to_move\n",
    "new_order = [col for col in all_cols if col not in cols_to_move] + cols_to_move\n",
    "\n",
    "# Reorder DataFrame\n",
    "df = df[new_order]\n",
    "df.to_csv(\"wine_results.csv\", index=False)"
   ]
  },
  {
   "cell_type": "markdown",
   "id": "a73b9731",
   "metadata": {},
   "source": [
    "### [Test] The following code helps to show how to find information on a page using BS4"
   ]
  },
  {
   "cell_type": "code",
   "execution_count": null,
   "id": "54d4b08f",
   "metadata": {},
   "outputs": [
    {
     "name": "stdout",
     "output_type": "stream",
     "text": [
      "https://www.internationalwinechallenge.com/canopy/beverage_details?wid=193376\n"
     ]
    }
   ],
   "source": [
    "url = links[0]\n",
    "detail_req = request.Request(BASE_URL + url, headers={\"User-Agent\": \"Mozilla/5.0\"})\n",
    "detail_text = request.urlopen(detail_req).read()\n",
    "detail_soup = bs4.BeautifulSoup(detail_text, \"html.parser\")\n",
    "with open(\"output.txt\", \"w\", encoding=\"utf-8\") as f:\n",
    "    print(BASE_URL + url)\n",
    "    f.write(str(detail_soup))\n",
    "found = detail_soup.find('div',{'class':'information'})"
   ]
  },
  {
   "cell_type": "code",
   "execution_count": null,
   "id": "4fc3b8c9",
   "metadata": {},
   "outputs": [
    {
     "data": {
      "text/plain": [
       "<div class=\"information\">\n",
       "<p><span>Produced by</span> Mora Wines</p>\n",
       "<p><span>Country</span> Central Otago, New Zealand</p>\n",
       "<p><span>Grape</span>Pinot Noir</p>\n",
       "<p><span>Alcohol level</span>13.5%</p>\n",
       "<p><span>Wine style</span>  Still</p>\n",
       "<p><span>Wine colour</span> Red</p>\n",
       "<p><span>IWC Points</span>96</p>\n",
       "<ul>\n",
       "<li>Trophies</li>\n",
       "\t\t\t\t\t\tCentral Otago Pinot Noir Trophy, \n",
       "\t\t\t\t\t</ul>\n",
       "</div>"
      ]
     },
     "execution_count": 63,
     "metadata": {},
     "output_type": "execute_result"
    }
   ],
   "source": [
    "found"
   ]
  }
 ],
 "metadata": {
  "kernelspec": {
   "display_name": "dallas (3.13.7)",
   "language": "python",
   "name": "python3"
  },
  "language_info": {
   "codemirror_mode": {
    "name": "ipython",
    "version": 3
   },
   "file_extension": ".py",
   "mimetype": "text/x-python",
   "name": "python",
   "nbconvert_exporter": "python",
   "pygments_lexer": "ipython3",
   "version": "3.13.7"
  }
 },
 "nbformat": 4,
 "nbformat_minor": 5
}
